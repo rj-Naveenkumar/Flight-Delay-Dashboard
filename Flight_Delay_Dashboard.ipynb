{
 "cells": [
  {
   "cell_type": "markdown",
   "id": "0293189e-15e5-4ae9-875a-cf62f4c77345",
   "metadata": {},
   "source": [
    "# Flight Delay Time Statistics"
   ]
  },
  {
   "cell_type": "markdown",
   "id": "f99ed1f8-1246-4e56-a064-82c8782c70cc",
   "metadata": {},
   "source": [
    "###  This project focuses on developing an interactive dashboard to visualize and analyze flight delay statistics using Python. Leveraging libraries such as Dash, Plotly, and Jupyter-Dash, the application enables dynamic visualizations for understanding delay patterns across various airlines and delay types. By embedding the dashboard within a Jupyter Notebook, this project highlights the ease of integrating interactive data applications into a data scientist's workflow, providing an accessible and engaging way to explore data insights."
   ]
  },
  {
   "cell_type": "markdown",
   "id": "1e4c02c5-c03c-492d-b22d-d6a2b349c2d7",
   "metadata": {},
   "source": [
    "## Install jupyter-dash:"
   ]
  },
  {
   "cell_type": "code",
   "execution_count": 2,
   "id": "f19c613b-652a-4216-9ae2-a43fa51675ec",
   "metadata": {},
   "outputs": [
    {
     "name": "stdout",
     "output_type": "stream",
     "text": [
      "Requirement already satisfied: jupyter-dash in c:\\users\\hp\\appdata\\local\\programs\\python\\python312\\lib\\site-packages (0.4.2)Note: you may need to restart the kernel to use updated packages.\n"
     ]
    },
    {
     "name": "stderr",
     "output_type": "stream",
     "text": [
      "\n",
      "[notice] A new release of pip is available: 24.0 -> 24.3.1\n",
      "[notice] To update, run: python.exe -m pip install --upgrade pip\n"
     ]
    },
    {
     "name": "stdout",
     "output_type": "stream",
     "text": [
      "\n",
      "Requirement already satisfied: dash in c:\\users\\hp\\appdata\\local\\programs\\python\\python312\\lib\\site-packages (from jupyter-dash) (2.18.2)\n",
      "Requirement already satisfied: requests in c:\\users\\hp\\appdata\\local\\programs\\python\\python312\\lib\\site-packages (from jupyter-dash) (2.31.0)\n",
      "Requirement already satisfied: flask in c:\\users\\hp\\appdata\\local\\programs\\python\\python312\\lib\\site-packages (from jupyter-dash) (3.0.0)\n",
      "Requirement already satisfied: retrying in c:\\users\\hp\\appdata\\local\\programs\\python\\python312\\lib\\site-packages (from jupyter-dash) (1.3.4)\n",
      "Requirement already satisfied: ipython in c:\\users\\hp\\appdata\\local\\programs\\python\\python312\\lib\\site-packages (from jupyter-dash) (8.18.1)\n",
      "Requirement already satisfied: ipykernel in c:\\users\\hp\\appdata\\local\\programs\\python\\python312\\lib\\site-packages (from jupyter-dash) (6.27.1)\n",
      "Requirement already satisfied: ansi2html in c:\\users\\hp\\appdata\\local\\programs\\python\\python312\\lib\\site-packages (from jupyter-dash) (1.9.1)\n",
      "Requirement already satisfied: nest-asyncio in c:\\users\\hp\\appdata\\local\\programs\\python\\python312\\lib\\site-packages (from jupyter-dash) (1.5.8)\n",
      "Requirement already satisfied: Werkzeug<3.1 in c:\\users\\hp\\appdata\\local\\programs\\python\\python312\\lib\\site-packages (from dash->jupyter-dash) (3.0.1)\n",
      "Requirement already satisfied: plotly>=5.0.0 in c:\\users\\hp\\appdata\\local\\programs\\python\\python312\\lib\\site-packages (from dash->jupyter-dash) (5.18.0)\n",
      "Requirement already satisfied: dash-html-components==2.0.0 in c:\\users\\hp\\appdata\\local\\programs\\python\\python312\\lib\\site-packages (from dash->jupyter-dash) (2.0.0)\n",
      "Requirement already satisfied: dash-core-components==2.0.0 in c:\\users\\hp\\appdata\\local\\programs\\python\\python312\\lib\\site-packages (from dash->jupyter-dash) (2.0.0)\n",
      "Requirement already satisfied: dash-table==5.0.0 in c:\\users\\hp\\appdata\\local\\programs\\python\\python312\\lib\\site-packages (from dash->jupyter-dash) (5.0.0)\n",
      "Requirement already satisfied: importlib-metadata in c:\\users\\hp\\appdata\\local\\programs\\python\\python312\\lib\\site-packages (from dash->jupyter-dash) (7.0.1)\n",
      "Requirement already satisfied: typing-extensions>=4.1.1 in c:\\users\\hp\\appdata\\local\\programs\\python\\python312\\lib\\site-packages (from dash->jupyter-dash) (4.9.0)\n",
      "Requirement already satisfied: setuptools in c:\\users\\hp\\appdata\\local\\programs\\python\\python312\\lib\\site-packages (from dash->jupyter-dash) (69.0.3)\n",
      "Requirement already satisfied: Jinja2>=3.1.2 in c:\\users\\hp\\appdata\\local\\programs\\python\\python312\\lib\\site-packages (from flask->jupyter-dash) (3.1.2)\n",
      "Requirement already satisfied: itsdangerous>=2.1.2 in c:\\users\\hp\\appdata\\local\\programs\\python\\python312\\lib\\site-packages (from flask->jupyter-dash) (2.1.2)\n",
      "Requirement already satisfied: click>=8.1.3 in c:\\users\\hp\\appdata\\local\\programs\\python\\python312\\lib\\site-packages (from flask->jupyter-dash) (8.1.7)\n",
      "Requirement already satisfied: blinker>=1.6.2 in c:\\users\\hp\\appdata\\local\\programs\\python\\python312\\lib\\site-packages (from flask->jupyter-dash) (1.7.0)\n",
      "Requirement already satisfied: comm>=0.1.1 in c:\\users\\hp\\appdata\\local\\programs\\python\\python312\\lib\\site-packages (from ipykernel->jupyter-dash) (0.2.0)\n",
      "Requirement already satisfied: debugpy>=1.6.5 in c:\\users\\hp\\appdata\\local\\programs\\python\\python312\\lib\\site-packages (from ipykernel->jupyter-dash) (1.8.0)\n",
      "Requirement already satisfied: jupyter-client>=6.1.12 in c:\\users\\hp\\appdata\\local\\programs\\python\\python312\\lib\\site-packages (from ipykernel->jupyter-dash) (8.6.0)\n",
      "Requirement already satisfied: jupyter-core!=5.0.*,>=4.12 in c:\\users\\hp\\appdata\\local\\programs\\python\\python312\\lib\\site-packages (from ipykernel->jupyter-dash) (5.5.1)\n",
      "Requirement already satisfied: matplotlib-inline>=0.1 in c:\\users\\hp\\appdata\\local\\programs\\python\\python312\\lib\\site-packages (from ipykernel->jupyter-dash) (0.1.6)\n",
      "Requirement already satisfied: packaging in c:\\users\\hp\\appdata\\local\\programs\\python\\python312\\lib\\site-packages (from ipykernel->jupyter-dash) (23.2)\n",
      "Requirement already satisfied: psutil in c:\\users\\hp\\appdata\\local\\programs\\python\\python312\\lib\\site-packages (from ipykernel->jupyter-dash) (5.9.7)\n",
      "Requirement already satisfied: pyzmq>=20 in c:\\users\\hp\\appdata\\local\\programs\\python\\python312\\lib\\site-packages (from ipykernel->jupyter-dash) (25.1.2)\n",
      "Requirement already satisfied: tornado>=6.1 in c:\\users\\hp\\appdata\\local\\programs\\python\\python312\\lib\\site-packages (from ipykernel->jupyter-dash) (6.4)\n",
      "Requirement already satisfied: traitlets>=5.4.0 in c:\\users\\hp\\appdata\\local\\programs\\python\\python312\\lib\\site-packages (from ipykernel->jupyter-dash) (5.14.0)\n",
      "Requirement already satisfied: decorator in c:\\users\\hp\\appdata\\local\\programs\\python\\python312\\lib\\site-packages (from ipython->jupyter-dash) (5.1.1)\n",
      "Requirement already satisfied: jedi>=0.16 in c:\\users\\hp\\appdata\\local\\programs\\python\\python312\\lib\\site-packages (from ipython->jupyter-dash) (0.19.1)\n",
      "Requirement already satisfied: prompt-toolkit<3.1.0,>=3.0.41 in c:\\users\\hp\\appdata\\local\\programs\\python\\python312\\lib\\site-packages (from ipython->jupyter-dash) (3.0.43)\n",
      "Requirement already satisfied: pygments>=2.4.0 in c:\\users\\hp\\appdata\\local\\programs\\python\\python312\\lib\\site-packages (from ipython->jupyter-dash) (2.17.2)\n",
      "Requirement already satisfied: stack-data in c:\\users\\hp\\appdata\\local\\programs\\python\\python312\\lib\\site-packages (from ipython->jupyter-dash) (0.6.3)\n",
      "Requirement already satisfied: colorama in c:\\users\\hp\\appdata\\local\\programs\\python\\python312\\lib\\site-packages (from ipython->jupyter-dash) (0.4.6)\n",
      "Requirement already satisfied: charset-normalizer<4,>=2 in c:\\users\\hp\\appdata\\local\\programs\\python\\python312\\lib\\site-packages (from requests->jupyter-dash) (3.3.2)\n",
      "Requirement already satisfied: idna<4,>=2.5 in c:\\users\\hp\\appdata\\local\\programs\\python\\python312\\lib\\site-packages (from requests->jupyter-dash) (3.6)\n",
      "Requirement already satisfied: urllib3<3,>=1.21.1 in c:\\users\\hp\\appdata\\local\\programs\\python\\python312\\lib\\site-packages (from requests->jupyter-dash) (2.1.0)\n",
      "Requirement already satisfied: certifi>=2017.4.17 in c:\\users\\hp\\appdata\\local\\programs\\python\\python312\\lib\\site-packages (from requests->jupyter-dash) (2023.11.17)\n",
      "Requirement already satisfied: six>=1.7.0 in c:\\users\\hp\\appdata\\local\\programs\\python\\python312\\lib\\site-packages (from retrying->jupyter-dash) (1.16.0)\n",
      "Requirement already satisfied: parso<0.9.0,>=0.8.3 in c:\\users\\hp\\appdata\\local\\programs\\python\\python312\\lib\\site-packages (from jedi>=0.16->ipython->jupyter-dash) (0.8.3)\n",
      "Requirement already satisfied: MarkupSafe>=2.0 in c:\\users\\hp\\appdata\\local\\programs\\python\\python312\\lib\\site-packages (from Jinja2>=3.1.2->flask->jupyter-dash) (2.1.3)\n",
      "Requirement already satisfied: python-dateutil>=2.8.2 in c:\\users\\hp\\appdata\\local\\programs\\python\\python312\\lib\\site-packages (from jupyter-client>=6.1.12->ipykernel->jupyter-dash) (2.8.2)\n",
      "Requirement already satisfied: platformdirs>=2.5 in c:\\users\\hp\\appdata\\local\\programs\\python\\python312\\lib\\site-packages (from jupyter-core!=5.0.*,>=4.12->ipykernel->jupyter-dash) (4.1.0)\n",
      "Requirement already satisfied: pywin32>=300 in c:\\users\\hp\\appdata\\local\\programs\\python\\python312\\lib\\site-packages (from jupyter-core!=5.0.*,>=4.12->ipykernel->jupyter-dash) (306)\n",
      "Requirement already satisfied: tenacity>=6.2.0 in c:\\users\\hp\\appdata\\local\\programs\\python\\python312\\lib\\site-packages (from plotly>=5.0.0->dash->jupyter-dash) (8.2.3)\n",
      "Requirement already satisfied: wcwidth in c:\\users\\hp\\appdata\\local\\programs\\python\\python312\\lib\\site-packages (from prompt-toolkit<3.1.0,>=3.0.41->ipython->jupyter-dash) (0.2.12)\n",
      "Requirement already satisfied: zipp>=0.5 in c:\\users\\hp\\appdata\\local\\programs\\python\\python312\\lib\\site-packages (from importlib-metadata->dash->jupyter-dash) (3.17.0)\n",
      "Requirement already satisfied: executing>=1.2.0 in c:\\users\\hp\\appdata\\local\\programs\\python\\python312\\lib\\site-packages (from stack-data->ipython->jupyter-dash) (2.0.1)\n",
      "Requirement already satisfied: asttokens>=2.1.0 in c:\\users\\hp\\appdata\\local\\programs\\python\\python312\\lib\\site-packages (from stack-data->ipython->jupyter-dash) (2.4.1)\n",
      "Requirement already satisfied: pure-eval in c:\\users\\hp\\appdata\\local\\programs\\python\\python312\\lib\\site-packages (from stack-data->ipython->jupyter-dash) (0.2.2)\n"
     ]
    }
   ],
   "source": [
    "pip install jupyter-dash"
   ]
  },
  {
   "cell_type": "markdown",
   "id": "4c08a0c1-f57a-4726-a83a-2bb029b6363f",
   "metadata": {},
   "source": [
    "## Importing Required Libraries :"
   ]
  },
  {
   "cell_type": "markdown",
   "id": "66311d41-fc32-4c2f-831b-41b0d761ef2e",
   "metadata": {},
   "source": [
    "##### pandas: Handles data loading and manipulation.\n",
    "##### jupyter_dash: Allows the Dash app to run inside a Jupyter Notebook.\n",
    "##### dash: Used for creating the layout and interactive components of the dashboard.\n",
    "##### plotly.express: A library to create interactive plots like line charts."
   ]
  },
  {
   "cell_type": "code",
   "execution_count": 3,
   "id": "b69ee344-4374-46c9-b5cb-b28d364cdae3",
   "metadata": {},
   "outputs": [],
   "source": [
    "import pandas as pd\n",
    "from jupyter_dash import JupyterDash  # Import JupyterDash for embedding Dash apps in notebooks\n",
    "from dash import dcc, html  # Dash components for creating layouts and interactivity\n",
    "from dash.dependencies import Input, Output  # For callback functionality\n",
    "import plotly.express as px  # For creating interactive visualizations\n"
   ]
  },
  {
   "cell_type": "code",
   "execution_count": 4,
   "id": "a46e5412-c222-4fe0-bdd1-b25ef646bde1",
   "metadata": {},
   "outputs": [],
   "source": [
    "# Read the airline data into a pandas dataframe\n",
    "airline_data = pd.read_csv(\n",
    "    'https://cf-courses-data.s3.us.cloud-object-storage.appdomain.cloud/IBMDeveloperSkillsNetwork-DV0101EN-SkillsNetwork/Data%20Files/airline_data.csv', \n",
    "    encoding=\"ISO-8859-1\",\n",
    "    dtype={'Div1Airport': str, 'Div1TailNum': str, \n",
    "           'Div2Airport': str, 'Div2TailNum': str}\n",
    ")\n"
   ]
  },
  {
   "cell_type": "code",
   "execution_count": 12,
   "id": "cecfa59d-d444-49a9-8f52-2241a4a78346",
   "metadata": {},
   "outputs": [
    {
     "data": {
      "text/html": [
       "<div>\n",
       "<style scoped>\n",
       "    .dataframe tbody tr th:only-of-type {\n",
       "        vertical-align: middle;\n",
       "    }\n",
       "\n",
       "    .dataframe tbody tr th {\n",
       "        vertical-align: top;\n",
       "    }\n",
       "\n",
       "    .dataframe thead th {\n",
       "        text-align: right;\n",
       "    }\n",
       "</style>\n",
       "<table border=\"1\" class=\"dataframe\">\n",
       "  <thead>\n",
       "    <tr style=\"text-align: right;\">\n",
       "      <th></th>\n",
       "      <th>Unnamed: 0</th>\n",
       "      <th>Year</th>\n",
       "      <th>Quarter</th>\n",
       "      <th>Month</th>\n",
       "      <th>DayofMonth</th>\n",
       "      <th>DayOfWeek</th>\n",
       "      <th>FlightDate</th>\n",
       "      <th>Reporting_Airline</th>\n",
       "      <th>DOT_ID_Reporting_Airline</th>\n",
       "      <th>IATA_CODE_Reporting_Airline</th>\n",
       "      <th>...</th>\n",
       "      <th>Div4WheelsOff</th>\n",
       "      <th>Div4TailNum</th>\n",
       "      <th>Div5Airport</th>\n",
       "      <th>Div5AirportID</th>\n",
       "      <th>Div5AirportSeqID</th>\n",
       "      <th>Div5WheelsOn</th>\n",
       "      <th>Div5TotalGTime</th>\n",
       "      <th>Div5LongestGTime</th>\n",
       "      <th>Div5WheelsOff</th>\n",
       "      <th>Div5TailNum</th>\n",
       "    </tr>\n",
       "  </thead>\n",
       "  <tbody>\n",
       "    <tr>\n",
       "      <th>0</th>\n",
       "      <td>1295781</td>\n",
       "      <td>1998</td>\n",
       "      <td>2</td>\n",
       "      <td>4</td>\n",
       "      <td>2</td>\n",
       "      <td>4</td>\n",
       "      <td>1998-04-02</td>\n",
       "      <td>AS</td>\n",
       "      <td>19930</td>\n",
       "      <td>AS</td>\n",
       "      <td>...</td>\n",
       "      <td>NaN</td>\n",
       "      <td>NaN</td>\n",
       "      <td>NaN</td>\n",
       "      <td>NaN</td>\n",
       "      <td>NaN</td>\n",
       "      <td>NaN</td>\n",
       "      <td>NaN</td>\n",
       "      <td>NaN</td>\n",
       "      <td>NaN</td>\n",
       "      <td>NaN</td>\n",
       "    </tr>\n",
       "    <tr>\n",
       "      <th>1</th>\n",
       "      <td>1125375</td>\n",
       "      <td>2013</td>\n",
       "      <td>2</td>\n",
       "      <td>5</td>\n",
       "      <td>13</td>\n",
       "      <td>1</td>\n",
       "      <td>2013-05-13</td>\n",
       "      <td>EV</td>\n",
       "      <td>20366</td>\n",
       "      <td>EV</td>\n",
       "      <td>...</td>\n",
       "      <td>NaN</td>\n",
       "      <td>NaN</td>\n",
       "      <td>NaN</td>\n",
       "      <td>NaN</td>\n",
       "      <td>NaN</td>\n",
       "      <td>NaN</td>\n",
       "      <td>NaN</td>\n",
       "      <td>NaN</td>\n",
       "      <td>NaN</td>\n",
       "      <td>NaN</td>\n",
       "    </tr>\n",
       "    <tr>\n",
       "      <th>2</th>\n",
       "      <td>118824</td>\n",
       "      <td>1993</td>\n",
       "      <td>3</td>\n",
       "      <td>9</td>\n",
       "      <td>25</td>\n",
       "      <td>6</td>\n",
       "      <td>1993-09-25</td>\n",
       "      <td>UA</td>\n",
       "      <td>19977</td>\n",
       "      <td>UA</td>\n",
       "      <td>...</td>\n",
       "      <td>NaN</td>\n",
       "      <td>NaN</td>\n",
       "      <td>NaN</td>\n",
       "      <td>NaN</td>\n",
       "      <td>NaN</td>\n",
       "      <td>NaN</td>\n",
       "      <td>NaN</td>\n",
       "      <td>NaN</td>\n",
       "      <td>NaN</td>\n",
       "      <td>NaN</td>\n",
       "    </tr>\n",
       "    <tr>\n",
       "      <th>3</th>\n",
       "      <td>634825</td>\n",
       "      <td>1994</td>\n",
       "      <td>4</td>\n",
       "      <td>11</td>\n",
       "      <td>12</td>\n",
       "      <td>6</td>\n",
       "      <td>1994-11-12</td>\n",
       "      <td>HP</td>\n",
       "      <td>19991</td>\n",
       "      <td>HP</td>\n",
       "      <td>...</td>\n",
       "      <td>NaN</td>\n",
       "      <td>NaN</td>\n",
       "      <td>NaN</td>\n",
       "      <td>NaN</td>\n",
       "      <td>NaN</td>\n",
       "      <td>NaN</td>\n",
       "      <td>NaN</td>\n",
       "      <td>NaN</td>\n",
       "      <td>NaN</td>\n",
       "      <td>NaN</td>\n",
       "    </tr>\n",
       "    <tr>\n",
       "      <th>4</th>\n",
       "      <td>1888125</td>\n",
       "      <td>2017</td>\n",
       "      <td>3</td>\n",
       "      <td>8</td>\n",
       "      <td>17</td>\n",
       "      <td>4</td>\n",
       "      <td>2017-08-17</td>\n",
       "      <td>UA</td>\n",
       "      <td>19977</td>\n",
       "      <td>UA</td>\n",
       "      <td>...</td>\n",
       "      <td>NaN</td>\n",
       "      <td>NaN</td>\n",
       "      <td>NaN</td>\n",
       "      <td>NaN</td>\n",
       "      <td>NaN</td>\n",
       "      <td>NaN</td>\n",
       "      <td>NaN</td>\n",
       "      <td>NaN</td>\n",
       "      <td>NaN</td>\n",
       "      <td>NaN</td>\n",
       "    </tr>\n",
       "  </tbody>\n",
       "</table>\n",
       "<p>5 rows × 110 columns</p>\n",
       "</div>"
      ],
      "text/plain": [
       "   Unnamed: 0  Year  Quarter  Month  DayofMonth  DayOfWeek  FlightDate  \\\n",
       "0     1295781  1998        2      4           2          4  1998-04-02   \n",
       "1     1125375  2013        2      5          13          1  2013-05-13   \n",
       "2      118824  1993        3      9          25          6  1993-09-25   \n",
       "3      634825  1994        4     11          12          6  1994-11-12   \n",
       "4     1888125  2017        3      8          17          4  2017-08-17   \n",
       "\n",
       "  Reporting_Airline  DOT_ID_Reporting_Airline IATA_CODE_Reporting_Airline  \\\n",
       "0                AS                     19930                          AS   \n",
       "1                EV                     20366                          EV   \n",
       "2                UA                     19977                          UA   \n",
       "3                HP                     19991                          HP   \n",
       "4                UA                     19977                          UA   \n",
       "\n",
       "   ... Div4WheelsOff  Div4TailNum  Div5Airport  Div5AirportID  \\\n",
       "0  ...           NaN          NaN          NaN            NaN   \n",
       "1  ...           NaN          NaN          NaN            NaN   \n",
       "2  ...           NaN          NaN          NaN            NaN   \n",
       "3  ...           NaN          NaN          NaN            NaN   \n",
       "4  ...           NaN          NaN          NaN            NaN   \n",
       "\n",
       "   Div5AirportSeqID Div5WheelsOn Div5TotalGTime Div5LongestGTime  \\\n",
       "0               NaN          NaN            NaN              NaN   \n",
       "1               NaN          NaN            NaN              NaN   \n",
       "2               NaN          NaN            NaN              NaN   \n",
       "3               NaN          NaN            NaN              NaN   \n",
       "4               NaN          NaN            NaN              NaN   \n",
       "\n",
       "   Div5WheelsOff Div5TailNum  \n",
       "0            NaN         NaN  \n",
       "1            NaN         NaN  \n",
       "2            NaN         NaN  \n",
       "3            NaN         NaN  \n",
       "4            NaN         NaN  \n",
       "\n",
       "[5 rows x 110 columns]"
      ]
     },
     "execution_count": 12,
     "metadata": {},
     "output_type": "execute_result"
    }
   ],
   "source": [
    "airline_data.head()"
   ]
  },
  {
   "cell_type": "markdown",
   "id": "310a814a-1707-4c66-8e43-d42f183ee48a",
   "metadata": {},
   "source": [
    "## Creating the JupyterDash App"
   ]
  },
  {
   "cell_type": "code",
   "execution_count": 5,
   "id": "a6586751-eecd-4bd3-a1db-65f63bcc1c5a",
   "metadata": {},
   "outputs": [
    {
     "name": "stderr",
     "output_type": "stream",
     "text": [
      "C:\\Users\\HP\\AppData\\Local\\Programs\\Python\\Python312\\Lib\\site-packages\\dash\\dash.py:579: UserWarning:\n",
      "\n",
      "JupyterDash is deprecated, use Dash instead.\n",
      "See https://dash.plotly.com/dash-in-jupyter for more details.\n",
      "\n"
     ]
    }
   ],
   "source": [
    "# Create a JupyterDash application\n",
    "app = JupyterDash(__name__)"
   ]
  },
  {
   "cell_type": "markdown",
   "id": "a6b96e40-6d9b-4858-b6e7-b8eb7347f515",
   "metadata": {},
   "source": [
    "##### JupyterDash: Initializes a Dash application that can run directly inside a Jupyter Notebook."
   ]
  },
  {
   "cell_type": "markdown",
   "id": "de6a14d8-83a3-41bf-b36b-e4f08623c129",
   "metadata": {},
   "source": [
    "## Designing the Dashboard Layout"
   ]
  },
  {
   "cell_type": "code",
   "execution_count": 6,
   "id": "c27d38c7-8660-452f-b182-0a25ef9417d5",
   "metadata": {},
   "outputs": [],
   "source": [
    "# Build dash app layout\n",
    "app.layout = html.Div(children=[\n",
    "    html.H1(\n",
    "        'Flight Delay Time Statistics', \n",
    "        style={'textAlign': 'center', 'color': '#503D36', 'font-size': 30}\n",
    "    ),\n",
    "    html.Div(\n",
    "        [\"Input Year: \", \n",
    "         dcc.Input(\n",
    "             id='input-year', \n",
    "             value='2010', \n",
    "             type='number', \n",
    "             style={'height': '35px', 'font-size': 30}\n",
    "         )], \n",
    "        style={'font-size': 30}\n",
    "    ),\n",
    "    html.Br(),\n",
    "    html.Br(),\n",
    "    # Segment 1\n",
    "    html.Div([\n",
    "        html.Div(dcc.Graph(id='carrier-plot')),\n",
    "        html.Div(dcc.Graph(id='weather-plot'))\n",
    "    ], style={'display': 'flex'}),\n",
    "    # Segment 2\n",
    "    html.Div([\n",
    "        html.Div(dcc.Graph(id='nas-plot')),\n",
    "        html.Div(dcc.Graph(id='security-plot'))\n",
    "    ], style={'display': 'flex'}),\n",
    "    # Segment 3\n",
    "    html.Div(dcc.Graph(id='late-plot'), style={'width': '65%'})\n",
    "])\n"
   ]
  },
  {
   "cell_type": "markdown",
   "id": "80466799-68e4-481a-a956-1bc972bfb62d",
   "metadata": {},
   "source": [
    "Layout Structure:\n",
    "- html.Div: A container for organizing layout components.\n",
    "- html.H1: Displays the title at the top of the dashboard.\n",
    "- dcc.Input: A textbox for users to input the year.\n",
    "- dcc.Graph: Placeholder for charts to be dynamically updated.\n",
    "  \n",
    "Styling:\n",
    "- Custom CSS styles (e.g., textAlign, font-size, etc.) enhance the dashboard’s appearance.\n",
    "  \n",
    "Segments:\n",
    "- The layout divides the plots into three sections for better readability."
   ]
  },
  {
   "cell_type": "markdown",
   "id": "85796b53-1840-4fbd-9223-8e3a48436732",
   "metadata": {},
   "source": [
    "## Function to Compute Delays"
   ]
  },
  {
   "cell_type": "code",
   "execution_count": 7,
   "id": "d81e32d2-6946-45f6-b2c0-0308cdca1ea6",
   "metadata": {},
   "outputs": [],
   "source": [
    "# Function to compute info\n",
    "def compute_info(airline_data, entered_year):\n",
    "    # Select data for the given year\n",
    "    df = airline_data[airline_data['Year'] == int(entered_year)]\n",
    "    # Compute delay averages\n",
    "    avg_car = df.groupby(['Month', 'Reporting_Airline'])['CarrierDelay'].mean().reset_index()\n",
    "    avg_weather = df.groupby(['Month', 'Reporting_Airline'])['WeatherDelay'].mean().reset_index()\n",
    "    avg_NAS = df.groupby(['Month', 'Reporting_Airline'])['NASDelay'].mean().reset_index()\n",
    "    avg_sec = df.groupby(['Month', 'Reporting_Airline'])['SecurityDelay'].mean().reset_index()\n",
    "    avg_late = df.groupby(['Month', 'Reporting_Airline'])['LateAircraftDelay'].mean().reset_index()\n",
    "    return avg_car, avg_weather, avg_NAS, avg_sec, avg_late\n"
   ]
  },
  {
   "cell_type": "markdown",
   "id": "aa7be0b6-3ad4-4862-b383-0b259a4217e1",
   "metadata": {},
   "source": [
    "This helper function:\n",
    "1. Filters the dataset by the input year.\n",
    "2. Groups the data by Month and Reporting Airline.\n",
    "3. Calculates the average delay for different types (carrier, weather, etc.).\n",
    "4. Returns the computed averages for plotting."
   ]
  },
  {
   "cell_type": "markdown",
   "id": "2b8e2ff3-aaee-4785-a2ec-7c567fe5abc7",
   "metadata": {},
   "source": [
    "## Adding Callbacks to Update Graphs"
   ]
  },
  {
   "cell_type": "code",
   "execution_count": 8,
   "id": "4e480dac-022d-4dbe-8095-07d330ce22de",
   "metadata": {},
   "outputs": [],
   "source": [
    "# Callback to update figures\n",
    "@app.callback(\n",
    "    [\n",
    "        Output('carrier-plot', 'figure'),\n",
    "        Output('weather-plot', 'figure'),\n",
    "        Output('nas-plot', 'figure'),\n",
    "        Output('security-plot', 'figure'),\n",
    "        Output('late-plot', 'figure')\n",
    "    ],\n",
    "    Input('input-year', 'value')\n",
    ")\n",
    "def update_graphs(entered_year):\n",
    "    # Compute the required data\n",
    "    avg_car, avg_weather, avg_NAS, avg_sec, avg_late = compute_info(airline_data, entered_year)\n",
    "    \n",
    "    # Create figures\n",
    "    carrier_fig = px.line(avg_car, x='Month', y='CarrierDelay', color='Reporting_Airline', \n",
    "                          title='Average Carrier Delay Time (Minutes) by Airline')\n",
    "    weather_fig = px.line(avg_weather, x='Month', y='WeatherDelay', color='Reporting_Airline', \n",
    "                          title='Average Weather Delay Time (Minutes) by Airline')\n",
    "    nas_fig = px.line(avg_NAS, x='Month', y='NASDelay', color='Reporting_Airline', \n",
    "                      title='Average NAS Delay Time (Minutes) by Airline')\n",
    "    sec_fig = px.line(avg_sec, x='Month', y='SecurityDelay', color='Reporting_Airline', \n",
    "                      title='Average Security Delay Time (Minutes) by Airline')\n",
    "    late_fig = px.line(avg_late, x='Month', y='LateAircraftDelay', color='Reporting_Airline', \n",
    "                       title='Average Late Aircraft Delay Time (Minutes) by Airline')\n",
    "    \n",
    "    return [carrier_fig, weather_fig, nas_fig, sec_fig, late_fig]\n"
   ]
  },
  {
   "cell_type": "markdown",
   "id": "9ac30412-7800-4fdd-816d-4ba506a3dc0d",
   "metadata": {},
   "source": [
    "- Inputs: Listens for changes in the input-year field.\n",
    "- Outputs: Updates the graphs (dcc.Graph) dynamically.\n",
    "- Uses plotly.express.line to create line plots for each delay type."
   ]
  },
  {
   "cell_type": "markdown",
   "id": "cfd81a9e-ea81-468e-9207-f3ef201e2b24",
   "metadata": {},
   "source": [
    "## Running the App"
   ]
  },
  {
   "cell_type": "code",
   "execution_count": 9,
   "id": "50f1cdf6-6e99-482b-b95a-32775a12c011",
   "metadata": {},
   "outputs": [
    {
     "data": {
      "text/html": [
       "\n",
       "        <iframe\n",
       "            width=\"100%\"\n",
       "            height=\"650\"\n",
       "            src=\"http://127.0.0.1:8050/\"\n",
       "            frameborder=\"0\"\n",
       "            allowfullscreen\n",
       "            \n",
       "        ></iframe>\n",
       "        "
      ],
      "text/plain": [
       "<IPython.lib.display.IFrame at 0x2233a740ef0>"
      ]
     },
     "metadata": {},
     "output_type": "display_data"
    },
    {
     "data": {
      "text/html": [
       "\n",
       "        <iframe\n",
       "            width=\"100%\"\n",
       "            height=\"650\"\n",
       "            src=\"http://127.0.0.1:8050/\"\n",
       "            frameborder=\"0\"\n",
       "            allowfullscreen\n",
       "            \n",
       "        ></iframe>\n",
       "        "
      ],
      "text/plain": [
       "<IPython.lib.display.IFrame at 0x2233cfbee40>"
      ]
     },
     "metadata": {},
     "output_type": "display_data"
    }
   ],
   "source": [
    "# Run the app in the notebook\n",
    "app.run_server(mode='inline')\n"
   ]
  },
  {
   "cell_type": "markdown",
   "id": "4640ede3-d6b0-46a9-afad-9352cc493624",
   "metadata": {},
   "source": [
    "## Conclusion :"
   ]
  },
  {
   "cell_type": "markdown",
   "id": "e2c9485b-6910-4bfb-babf-a3262217ff28",
   "metadata": {},
   "source": [
    "####   The Flight Delay Time Statistics dashboard effectively demonstrates how data visualization can provide insights into airline performance metrics, specifically focusing on flight delays due to various reasons such as carrier delays, weather conditions, NAS (National Aviation System) issues, security, and late aircraft arrivals. By leveraging Dash and Plotly, the project presents interactive, visually appealing graphs that allow users to analyze delays across different airlines and months."
   ]
  },
  {
   "cell_type": "code",
   "execution_count": null,
   "id": "42b46b76-9e09-4964-9088-832c581a4236",
   "metadata": {},
   "outputs": [],
   "source": []
  }
 ],
 "metadata": {
  "kernelspec": {
   "display_name": "Python 3 (ipykernel)",
   "language": "python",
   "name": "python3"
  },
  "language_info": {
   "codemirror_mode": {
    "name": "ipython",
    "version": 3
   },
   "file_extension": ".py",
   "mimetype": "text/x-python",
   "name": "python",
   "nbconvert_exporter": "python",
   "pygments_lexer": "ipython3",
   "version": "3.12.0"
  }
 },
 "nbformat": 4,
 "nbformat_minor": 5
}
